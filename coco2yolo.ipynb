{
 "cells": [
  {
   "cell_type": "code",
   "execution_count": 14,
   "metadata": {},
   "outputs": [],
   "source": [
    "def get_img_shape(path):\n",
    "    img = cv2.imread(path)\n",
    "    try:\n",
    "        a=img.shape\n",
    "        #print(a)\n",
    "        return a\n",
    "    except AttributeError:\n",
    "        print('error!', path)\n",
    "        return (None, None, None)\n",
    "def convert_labels(path, x1, y1, x2, y2):\n",
    "    \n",
    "    def sorting(l1, l2):\n",
    "        if l1 > l2:\n",
    "            lmax, lmin = l1, l2\n",
    "            return lmax, lmin\n",
    "        else:\n",
    "            lmax, lmin = l2, l1\n",
    "            return lmax, lmin\n",
    "    size = get_img_shape(path)\n",
    "    xmax, xmin = sorting(x1, x2)\n",
    "    ymax, ymin = sorting(y1, y2)\n",
    "    #print(size[1])\n",
    "    dw = 1/size[1]\n",
    "    dh = 1/size[0]\n",
    "    x = (xmin + xmax)/2.0\n",
    "    y = (ymin + ymax)/2.0\n",
    "    w = xmax - xmin\n",
    "    h = ymax - ymin\n",
    "    x = x*dw\n",
    "    w = w*dw\n",
    "    y = y*dh\n",
    "    h = h*dh\n",
    "    return (x,y,w,h)"
   ]
  },
  {
   "cell_type": "code",
   "execution_count": 15,
   "metadata": {},
   "outputs": [],
   "source": [
    "import json\n",
    "f = open('aug_ann.json')\n",
    "training_data = json.load(f)"
   ]
  },
  {
   "cell_type": "code",
   "execution_count": 16,
   "metadata": {},
   "outputs": [
    {
     "ename": "NameError",
     "evalue": "name 'image_path' is not defined",
     "output_type": "error",
     "traceback": [
      "\u001b[1;31m---------------------------------------------------------------------------\u001b[0m",
      "\u001b[1;31mNameError\u001b[0m                                 Traceback (most recent call last)",
      "\u001b[1;32m<ipython-input-16-d5977f312638>\u001b[0m in \u001b[0;36m<module>\u001b[1;34m\u001b[0m\n\u001b[0;32m     21\u001b[0m         \u001b[0mfilename\u001b[0m \u001b[1;33m=\u001b[0m \u001b[1;34m\"00\"\u001b[0m\u001b[1;33m+\u001b[0m\u001b[0mimage_id\u001b[0m \u001b[1;33m+\u001b[0m \u001b[1;34m\".txt\"\u001b[0m\u001b[1;33m\u001b[0m\u001b[1;33m\u001b[0m\u001b[0m\n\u001b[0;32m     22\u001b[0m     \u001b[0mkitti_bbox\u001b[0m \u001b[1;33m=\u001b[0m \u001b[1;33m[\u001b[0m\u001b[0mbbox\u001b[0m\u001b[1;33m[\u001b[0m\u001b[1;36m0\u001b[0m\u001b[1;33m]\u001b[0m\u001b[1;33m,\u001b[0m \u001b[0mbbox\u001b[0m\u001b[1;33m[\u001b[0m\u001b[1;36m1\u001b[0m\u001b[1;33m]\u001b[0m\u001b[1;33m,\u001b[0m \u001b[0mbbox\u001b[0m\u001b[1;33m[\u001b[0m\u001b[1;36m2\u001b[0m\u001b[1;33m]\u001b[0m \u001b[1;33m+\u001b[0m \u001b[0mbbox\u001b[0m\u001b[1;33m[\u001b[0m\u001b[1;36m0\u001b[0m\u001b[1;33m]\u001b[0m\u001b[1;33m,\u001b[0m \u001b[0mbbox\u001b[0m\u001b[1;33m[\u001b[0m\u001b[1;36m3\u001b[0m\u001b[1;33m]\u001b[0m \u001b[1;33m+\u001b[0m \u001b[0mbbox\u001b[0m\u001b[1;33m[\u001b[0m\u001b[1;36m1\u001b[0m\u001b[1;33m]\u001b[0m\u001b[1;33m]\u001b[0m\u001b[1;33m\u001b[0m\u001b[1;33m\u001b[0m\u001b[0m\n\u001b[1;32m---> 23\u001b[1;33m     \u001b[0myolo_bbox\u001b[0m \u001b[1;33m=\u001b[0m \u001b[0mconvert_labels\u001b[0m\u001b[1;33m(\u001b[0m\u001b[0mimage_path\u001b[0m\u001b[1;33m,\u001b[0m \u001b[0mkitti_bbox\u001b[0m\u001b[1;33m[\u001b[0m\u001b[1;36m0\u001b[0m\u001b[1;33m]\u001b[0m\u001b[1;33m,\u001b[0m \u001b[0mkitti_bbox\u001b[0m\u001b[1;33m[\u001b[0m\u001b[1;36m1\u001b[0m\u001b[1;33m]\u001b[0m\u001b[1;33m,\u001b[0m \u001b[0mkitti_bbox\u001b[0m\u001b[1;33m[\u001b[0m\u001b[1;36m2\u001b[0m\u001b[1;33m]\u001b[0m\u001b[1;33m,\u001b[0m \u001b[0mkitti_bbox\u001b[0m\u001b[1;33m[\u001b[0m\u001b[1;36m3\u001b[0m\u001b[1;33m]\u001b[0m\u001b[1;33m)\u001b[0m\u001b[1;33m\u001b[0m\u001b[1;33m\u001b[0m\u001b[0m\n\u001b[0m\u001b[0;32m     24\u001b[0m     \u001b[1;31m#filename = image_id + \".txt\"\u001b[0m\u001b[1;33m\u001b[0m\u001b[1;33m\u001b[0m\u001b[1;33m\u001b[0m\u001b[0m\n\u001b[0;32m     25\u001b[0m     \u001b[0mcontent\u001b[0m \u001b[1;33m=\u001b[0m \u001b[0mcategory_id\u001b[0m \u001b[1;33m+\u001b[0m \u001b[1;34m\" \"\u001b[0m \u001b[1;33m+\u001b[0m \u001b[0mstr\u001b[0m\u001b[1;33m(\u001b[0m\u001b[0myolo_bbox\u001b[0m\u001b[1;33m[\u001b[0m\u001b[1;36m0\u001b[0m\u001b[1;33m]\u001b[0m\u001b[1;33m)\u001b[0m \u001b[1;33m+\u001b[0m \u001b[1;34m\" \"\u001b[0m \u001b[1;33m+\u001b[0m \u001b[0mstr\u001b[0m\u001b[1;33m(\u001b[0m\u001b[0myolo_bbox\u001b[0m\u001b[1;33m[\u001b[0m\u001b[1;36m1\u001b[0m\u001b[1;33m]\u001b[0m\u001b[1;33m)\u001b[0m \u001b[1;33m+\u001b[0m \u001b[1;34m\" \"\u001b[0m \u001b[1;33m+\u001b[0m \u001b[0mstr\u001b[0m\u001b[1;33m(\u001b[0m\u001b[0myolo_bbox\u001b[0m\u001b[1;33m[\u001b[0m\u001b[1;36m2\u001b[0m\u001b[1;33m]\u001b[0m\u001b[1;33m)\u001b[0m \u001b[1;33m+\u001b[0m \u001b[1;34m\" \"\u001b[0m \u001b[1;33m+\u001b[0m \u001b[0mstr\u001b[0m\u001b[1;33m(\u001b[0m\u001b[0myolo_bbox\u001b[0m\u001b[1;33m[\u001b[0m\u001b[1;36m3\u001b[0m\u001b[1;33m]\u001b[0m\u001b[1;33m)\u001b[0m\u001b[1;33m\u001b[0m\u001b[1;33m\u001b[0m\u001b[0m\n",
      "\u001b[1;31mNameError\u001b[0m: name 'image_path' is not defined"
     ]
    }
   ],
   "source": [
    "import cv2\n",
    "check_set = set()\n",
    "for i in range(len(training_data['annotations'])):\n",
    "    image_id = str((training_data['annotations'][i]['image_id'])+1)\n",
    "    category_id = str((training_data['annotations'][i]['category_id']))\n",
    "    bbox = training_data['annotations'][i]['bbox']\n",
    "    if int(image_id) < 10 and 0<=int(category_id)<=10:\n",
    "        image_path = \"000000\" + image_id + \".jpg\"\n",
    "        filename = \"000000\"+image_id + \".txt\"\n",
    "    elif int(image_id) >= 10 and int(image_id) < 100 and 0<=int(category_id)<=10:\n",
    "        image_path = \"00000\" + image_id + \".jpg\"\n",
    "        filename = \"00000\"+image_id + \".txt\"\n",
    "    elif int(image_id) >= 100 and int(image_id)  < 1000 and 0<=int(category_id)<=10:\n",
    "        image_path = \"0000\" + image_id + \".jpg\"\n",
    "        filename = \"0000\"+image_id + \".txt\"\n",
    "    elif int(image_id) >= 1000 and int(image_id)  < 10000 and 0<=int(category_id)<=10:\n",
    "        image_path = \"000\"+image_id + \".jpg\"\n",
    "        filename = \"000\"+image_id + \".txt\"\n",
    "    elif int(image_id)  < 20000 and 0<=int(category_id)<=10:\n",
    "        image_path = \"00\"+image_id + \".jpg\"\n",
    "        filename = \"00\"+image_id + \".txt\"\n",
    "    kitti_bbox = [bbox[0], bbox[1], bbox[2] + bbox[0], bbox[3] + bbox[1]]\n",
    "    yolo_bbox = convert_labels(image_path, kitti_bbox[0], kitti_bbox[1], kitti_bbox[2], kitti_bbox[3])\n",
    "    #filename = image_id + \".txt\"\n",
    "    content = category_id + \" \" + str(yolo_bbox[0]) + \" \" + str(yolo_bbox[1]) + \" \" + str(yolo_bbox[2]) + \" \" + str(yolo_bbox[3])\n",
    "    if image_id in check_set:\n",
    "        # Append to file files\n",
    "        file = open(filename, \"a\")\n",
    "        file.write(\"\\n\")\n",
    "        file.write(content)\n",
    "        file.close()\n",
    "    elif image_id not in check_set:\n",
    "        check_set.add(image_id)\n",
    "        # Write files\n",
    "        file = open(filename, \"w\")\n",
    "        file.write(content)\n",
    "        file.close()"
   ]
  },
  {
   "cell_type": "code",
   "execution_count": null,
   "metadata": {},
   "outputs": [],
   "source": []
  },
  {
   "cell_type": "code",
   "execution_count": null,
   "metadata": {},
   "outputs": [],
   "source": []
  },
  {
   "cell_type": "code",
   "execution_count": null,
   "metadata": {},
   "outputs": [],
   "source": []
  }
 ],
 "metadata": {
  "kernelspec": {
   "display_name": "Python 3",
   "language": "python",
   "name": "python3"
  },
  "language_info": {
   "codemirror_mode": {
    "name": "ipython",
    "version": 3
   },
   "file_extension": ".py",
   "mimetype": "text/x-python",
   "name": "python",
   "nbconvert_exporter": "python",
   "pygments_lexer": "ipython3",
   "version": "3.8.5"
  }
 },
 "nbformat": 4,
 "nbformat_minor": 4
}
